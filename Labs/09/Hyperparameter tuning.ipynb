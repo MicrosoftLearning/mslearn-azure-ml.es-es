{
  "cells": [
    {
      "cell_type": "markdown",
      "metadata": {},
      "source": [
        "# Ajuste de hiperparámetros con un trabajo de barrido\n",
        "\n",
        "Hay muchos algoritmos de aprendizaje automático que necesitan hiperparámetros (valores de parámetro que influyen en el entrenamiento, pero que no se pueden determinar a partir de los propios datos de entrenamiento). Por ejemplo, al entrenar un modelo de regresión logística, puede usar un hiperparámetro de tasa de regularización para contrarrestar el sesgo en el modelo; o bien al entrenar una red neuronal convolucional, puede usar hiperparámetros como velocidad de aprendizaje y tamaño de lote para controlar cómo se ajustan los pesos y cuántos elementos de datos se procesan en un mini lote, respectivamente. La elección de valores de hiperparámetro puede afectar significativamente al rendimiento de un modelo entrenado o al tiempo que se necesita para entrenarlo, y a menudo es necesario probar varias combinaciones para encontrar la solución óptima. \n",
        "\n",
        "## Antes de comenzar\n",
        "\n",
        "Necesitará la versión más reciente del paquete **azureml-ai-ml** para ejecutar el código en este cuaderno. Ejecute la celda siguiente para comprobar que está instalada.\n",
        "\n",
        "> **Nota**:\n",
        "> Si el paquete **azure-ai-ml** no está instalado, ejecute `pip install azure-ai-ml` para instalarlo."
      ]
    },
    {
      "cell_type": "code",
      "execution_count": null,
      "metadata": {
        "gather": {
          "logged": 1667591781367
        },
        "vscode": {
          "languageId": "python"
        }
      },
      "outputs": [],
      "source": [
        "## Conexión con su área de trabajo\n",
        "\n",
        "Con los paquetes de SDK necesarios instalados, ya está listo para conectarse al área de trabajo.\n",
        "\n",
        "Para conectarse a un espacio de trabajo, se necesitan parámetros de identificación: un id. de suscripción, un nombre de grupo de recursos y un nombre de espacio de trabajo. El nombre del grupo de recursos y el nombre del área de trabajo ya se rellenan automáticamente. Solo necesita el identificador de suscripción para completar el comando.\n",
        "\n",
        "Para buscar los parámetros necesarios, haga clic en la suscripción y el nombre del área de trabajo en la parte superior derecha de Studio. Se abrirá un panel a la derecha.\n",
        "\n",
        "<p style=\"color:red;font-size:120%;background-color:yellow;font-weight:bold\"> Copie el identificador de suscripción y reemplace **YOUR-SUBSCRIPTION-ID** por el valor que copió. </p>"
      ]
    },
    {
      "attachments": {},
      "cell_type": "markdown",
      "metadata": {},
      "source": [
        "## Creación del script de entrenamiento\n",
        "El ajuste de hiperparámetros es ideal cuando desea entrenar modelos de aprendizaje automático, pero variar los parámetros de entrada. Deberá crear un script de entrenamiento que espere un parámetro de entrada que represente uno de los hiperparámetros del algoritmo.\n",
        "\n",
        "Ejecute las siguientes celdas para crear la carpeta **src** y el script de entrenamiento.\n",
        "\n",
        "Tenga en cuenta que el script de entrenamiento espera dos parámetros de entrada:\n",
        "\n",
        "- `--training_data` que espera una cadena. Especificará la ruta de acceso a un recurso de datos registrado como datos de entrenamiento de entrada.\n",
        "- `--reg_rate` que espera un número, pero tiene un valor predeterminado de `0.01`. Usará este parámetro de entrada para el ajuste de hiperparámetros."
      ]
    },
    {
      "cell_type": "code",
      "execution_count": null,
      "metadata": {
        "gather": {
          "logged": 1667591793668
        },
        "vscode": {
          "languageId": "python"
        }
      },
      "outputs": [],
      "source": [
        "## Configuración y ejecución de un trabajo de comando\n",
        "\n",
        "Ejecute la celda siguiente para entrenar un modelo de clasificación para predecir la diabetes. El modelo se entrena ejecutando el script **train\\.py** que se encuentra en la carpeta **src**. Utiliza el activo de datos registrado `diabetes-data` como datos de entrenamiento. \n",
        "\n",
        "- `code`: especifica la carpeta que incluye el script a ejecutar.\n",
        "- `command`: especifica qué ejecutar exactamente.\n",
        "- `environment`: especifica los paquetes necesarios que se van a instalar en el proceso antes de ejecutar el comando.\n",
        "- `compute`: especifica el proceso que se va a usar para ejecutar el comando.\n",
        "- `display_name`: nombre del trabajo individual.\n",
        "- `experiment_name`: nombre del experimento al que pertenece el trabajo.\n",
        "\n",
        "Tenga en cuenta que el trabajo de comando solo ejecuta el script de entrenamiento una vez, con una tasa de regularización de `0.1`. Antes de ejecutar un trabajo de barrido para ajustar hiperparámetros, se recomienda probar si el script funciona según lo previsto con un trabajo de comando."
      ]
    },
    {
      "cell_type": "code",
      "execution_count": null,
      "metadata": {
        "gather": {
          "logged": 1667591797746
        },
        "vscode": {
          "languageId": "python"
        }
      },
      "outputs": [],
      "source": [
        "## Definición del espacio de búsqueda\n",
        "\n",
        "Cuando el trabajo de comando se haya completado correctamente, puede configurar y ejecutar un trabajo de barrido. \n",
        "\n",
        "En primer lugar, deberá especificar el espacio de búsqueda para el hiperparámetro. Para entrenar tres modelos, cada uno con una tasa de regularización diferente (`0.01`, `0.1` o `1`), puede definir el espacio de búsqueda con un hiperparámetro `Choice`. "
      ]
    },
    {
      "cell_type": "markdown",
      "metadata": {},
      "source": [
        "## Configuración y envío del trabajo de barrido\n",
        "\n",
        "Usará la función de barrido para realizar el ajuste de hiperparámetros en el script de entrenamiento. Para configurar un trabajo de barrido, deberá configurar lo siguiente:\n",
        "\n",
        "- `compute`: nombre del destino de proceso en el que se ejecutará el trabajo.\n",
        "- `sampling_algorithm`: algoritmo de muestreo de hiperparámetros que se va a usar en el espacio de búsqueda. Los valores permitidos son `random`, `grid` y `bayesian`.\n",
        "- `primary_metric`: el nombre de la métrica principal notificada por cada trabajo de prueba. La métrica debe registrarse en el script de entrenamiento del usuario mediante `mlflow.log_metric()` con el mismo nombre de métrica correspondiente.\n",
        "- `goal`: El objetivo de optimización del `primary_metric`. Los valores permitidos son `maximize` y `minimize`.\n",
        "- `limits`: límites del trabajo de barrido. Por ejemplo, la cantidad máxima de pruebas o modelos que desea entrenar.\n",
        "\n",
        "Tenga en cuenta que el trabajo de comando se usa como base para el trabajo de barrido. El trabajo de barrido reutilizará la configuración del trabajo de comando."
      ]
    },
    {
      "cell_type": "code",
      "execution_count": null,
      "metadata": {
        "gather": {
          "logged": 1667591853637
        },
        "vscode": {
          "languageId": "python"
        }
      },
      "outputs": [],
      "source": [
        "Ejecute la celda siguiente para enviar el trabajo de barrido."
      ]
    },
    {
      "cell_type": "code",
      "execution_count": null,
      "metadata": {
        "vscode": {
          "languageId": "python"
        }
      },
      "outputs": [],
      "source": [
        "Una vez completado el trabajo, vaya a la información general del trabajo. En la pestaña **Pruebas** se mostrarán todos los modelos entrenados y cómo difiere la puntuación `Accuracy` para cada valor de tasa de regularización que haya probado."
      ]
    },
    {
      "cell_type": "markdown",
      "metadata": {},
      "source": [
        "## Configure and run a command job\n",
        "\n",
        "Run the cell below to train a classification model to predict diabetes. The model is trained by running the **train\\.py** script that can be found in the **src** folder. It uses the registered `diabetes-data` data asset as the training data. \n",
        "\n",
        "- `code`: specifies the folder that includes the script to run.\n",
        "- `command`: specifies what to run exactly.\n",
        "- `environment`: specifies the necessary packages to be installed on the compute before running the command.\n",
        "- `compute`: specifies the compute to use to run the command.\n",
        "- `display_name`: the name of the individual job.\n",
        "- `experiment_name`: the name of the experiment the job belongs to.\n",
        "\n",
        "Note that the command job only runs the training script once, with a regularization rate of `0.1`. Before you run a sweep job to tune hyperparameters, it's a best practice to test whether your script works as expected with a command job."
      ]
    },
    {
      "cell_type": "code",
      "execution_count": null,
      "metadata": {
        "gather": {
          "logged": 1667592538771
        },
        "jupyter": {
          "outputs_hidden": false,
          "source_hidden": false
        },
        "nteract": {
          "transient": {
            "deleting": false
          }
        },
        "vscode": {
          "languageId": "python"
        }
      },
      "outputs": [],
      "source": [
        "from azure.ai.ml import command, Input\n",
        "from azure.ai.ml.constants import AssetTypes\n",
        "\n",
        "# configure job\n",
        "\n",
        "job = command(\n",
        "    code=\"./src\",\n",
        "    command=\"python train.py --training_data ${{inputs.diabetes_data}} --reg_rate ${{inputs.reg_rate}}\",\n",
        "    inputs={\n",
        "        \"diabetes_data\": Input(\n",
        "            type=AssetTypes.URI_FILE, \n",
        "            path=\"azureml:diabetes-data:1\"\n",
        "            ),\n",
        "        \"reg_rate\": 0.01,\n",
        "    },\n",
        "    environment=\"AzureML-sklearn-0.24-ubuntu18.04-py37-cpu@latest\",\n",
        "    compute=\"aml-cluster\",\n",
        "    display_name=\"diabetes-train-mlflow\",\n",
        "    experiment_name=\"diabetes-training\", \n",
        "    tags={\"model_type\": \"LogisticRegression\"}\n",
        "    )\n",
        "\n",
        "# submit job\n",
        "returned_job = ml_client.create_or_update(job)\n",
        "aml_url = returned_job.studio_url\n",
        "print(\"Monitor your job at\", aml_url)"
      ]
    },
    {
      "cell_type": "markdown",
      "metadata": {
        "nteract": {
          "transient": {
            "deleting": false
          }
        }
      },
      "source": [
        "## Define the search space\n",
        "\n",
        "When your command job has completed successfully, you can configure and run a sweep job. \n",
        "\n",
        "First, you'll need to specify the search space for your hyperparameter. To train three models, each with a different regularization rate (`0.01`, `0.1`, or `1`), you can define the search space with a `Choice` hyperparameter. "
      ]
    },
    {
      "cell_type": "code",
      "execution_count": null,
      "metadata": {
        "gather": {
          "logged": 1667592546442
        },
        "jupyter": {
          "outputs_hidden": false,
          "source_hidden": false
        },
        "nteract": {
          "transient": {
            "deleting": false
          }
        },
        "vscode": {
          "languageId": "python"
        }
      },
      "outputs": [],
      "source": [
        "from azure.ai.ml.sweep import Choice\n",
        "\n",
        "command_job_for_sweep = job(\n",
        "    reg_rate=Choice(values=[0.01, 0.1, 1]),\n",
        ")"
      ]
    },
    {
      "cell_type": "markdown",
      "metadata": {},
      "source": [
        "## Configure and submit the sweep job\n",
        "\n",
        "You'll use the sweep function to do hyperparameter tuning on your training script. To configure a sweep job, you'll need to configure the following:\n",
        "\n",
        "- `compute`: Name of the compute target to execute the job on.\n",
        "- `sampling_algorithm`: The hyperparameter sampling algorithm to use over the search space. Allowed values are `random`, `grid` and `bayesian`.\n",
        "- `primary_metric`: The name of the primary metric reported by each trial job. The metric must be logged in the user's training script using `mlflow.log_metric()` with the same corresponding metric name.\n",
        "- `goal`: The optimization goal of the `primary_metric`. The allowed values are `maximize` and `minimize`.\n",
        "- `limits`: Limits for the sweep job. For example, the maximum amount of trials or models you want to train.\n",
        "\n",
        "Note that the command job is used as the base for the sweep job. The configuration for the command job will be reused by the sweep job."
      ]
    },
    {
      "cell_type": "code",
      "execution_count": null,
      "metadata": {
        "gather": {
          "logged": 1667592681475
        },
        "jupyter": {
          "outputs_hidden": false,
          "source_hidden": false
        },
        "nteract": {
          "transient": {
            "deleting": false
          }
        },
        "vscode": {
          "languageId": "python"
        }
      },
      "outputs": [],
      "source": [
        "# apply the sweep parameter to obtain the sweep_job\n",
        "sweep_job = command_job_for_sweep.sweep(\n",
        "    compute=\"aml-cluster\",\n",
        "    sampling_algorithm=\"grid\",\n",
        "    primary_metric=\"training_accuracy_score\",\n",
        "    goal=\"Maximize\",\n",
        ")\n",
        "\n",
        "# set the name of the sweep job experiment\n",
        "sweep_job.experiment_name=\"sweep-diabetes\"\n",
        "\n",
        "# define the limits for this sweep\n",
        "sweep_job.set_limits(max_total_trials=4, max_concurrent_trials=2, timeout=7200)"
      ]
    },
    {
      "cell_type": "markdown",
      "metadata": {},
      "source": [
        "Run the following cell to submit the sweep job."
      ]
    },
    {
      "cell_type": "code",
      "execution_count": null,
      "metadata": {
        "gather": {
          "logged": 1667592716881
        },
        "jupyter": {
          "outputs_hidden": false,
          "source_hidden": false
        },
        "nteract": {
          "transient": {
            "deleting": false
          }
        },
        "vscode": {
          "languageId": "python"
        }
      },
      "outputs": [],
      "source": [
        "returned_sweep_job = ml_client.create_or_update(sweep_job)\n",
        "aml_url = returned_sweep_job.studio_url\n",
        "print(\"Monitor your job at\", aml_url)"
      ]
    },
    {
      "cell_type": "markdown",
      "metadata": {},
      "source": [
        "When the job is completed, navigate to the job overview. The **Trials** tab will show all models that have been trained and how the `Accuracy` score differs for each regularization rate value you tried."
      ]
    }
  ],
  "metadata": {
    "kernel_info": {
      "name": "python38-azureml"
    },
    "kernelspec": {
      "display_name": "Python 3.8 - AzureML",
      "language": "python",
      "name": "python38-azureml"
    },
    "microsoft": {
      "host": {
        "AzureML": {
          "notebookHasBeenCompleted": true
        }
      }
    },
    "nteract": {
      "version": "nteract-front-end@1.0.0"
    },
    "vscode": {
      "interpreter": {
        "hash": "f2b2cd046deda8eabef1e765a11d0ec9aa9bd1d31d56ce79c815a38c323e14ec"
      }
    }
  },
  "nbformat": 4,
  "nbformat_minor": 2
}