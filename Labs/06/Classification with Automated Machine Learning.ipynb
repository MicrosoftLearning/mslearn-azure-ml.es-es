{
  "cells": [
    {
      "cell_type": "markdown",
      "metadata": {},
      "source": [
        "# Entrenar un modelo de clasificación con Automated Machine Learning\n",
        "\n",
        "Hay muchos tipos de algoritmos de aprendizaje automático que puede usar para entrenar un modelo y, a veces, no es fácil determinar el más eficaz para los requisitos de predicción y datos concretos. Además, puede afectar significativamente al rendimiento predictivo de un modelo mediante el preprocesamiento de los datos de entrenamiento, con técnicas como las de normalización, imputación de características que faltan y otras. En la búsqueda del mejor modelo para los requisitos, es posible que tenga que probar muchas combinaciones de algoritmos y transformaciones de preprocesamiento, para lo que se necesita mucho tiempo y recursos de proceso.\n",
        "\n",
        "Azure Machine Learning permite automatizar la comparación de modelos entrenados con diferentes algoritmos y opciones de preprocesamiento. Puede usar la interfaz visual de [Azure Machine Learning Studio](https://ml/azure.com) o el SDK de Python (v2) para aprovechar esta capacidad. El SDK de Python le ofrece un mayor control sobre la configuración del trabajo automatizado de aprendizaje automático, pero la interfaz visual es más fácil de usar.\n",
        "\n",
        "## Antes de comenzar\n",
        "\n",
        "Necesitará la versión más reciente del paquete **azureml-ai-ml** para ejecutar el código en este cuaderno. Ejecute la celda siguiente para comprobar que está instalada.\n",
        "\n",
        "> **Nota**:\n",
        "> Si el paquete **azure-ai-ml** no está instalado, ejecute `pip install azure-ai-ml` para instalarlo."
      ]
    },
    {
      "cell_type": "code",
      "execution_count": null,
      "metadata": {
        "vscode": {
          "languageId": "python"
        }
      },
      "outputs": [],
      "source": [
        "## Conexión con su área de trabajo\n",
        "\n",
        "Con los paquetes de SDK necesarios instalados, ya está listo para conectarse al área de trabajo.\n",
        "\n",
        "Para conectarse a un espacio de trabajo, se necesitan parámetros de identificación: un id. de suscripción, un nombre de grupo de recursos y un nombre de espacio de trabajo. El nombre del grupo de recursos y el nombre del área de trabajo ya se rellenan automáticamente. Solo necesita el identificador de suscripción para completar el comando.\n",
        "\n",
        "Para buscar los parámetros necesarios, haga clic en la suscripción y el nombre del área de trabajo en la parte superior derecha de Studio. Se abrirá un panel a la derecha.\n",
        "\n",
        "<p style=\"color:red;font-size:120%;background-color:yellow;font-weight:bold\"> Copie el identificador de suscripción y reemplace **YOUR-SUBSCRIPTION-ID** por el valor que copió. </p>"
      ]
    },
    {
      "attachments": {},
      "cell_type": "markdown",
      "metadata": {},
      "source": [
        "## Preparación de los datos\n",
        "\n",
        "No es necesario crear un script de entrenamiento para el aprendizaje automático automatizado, pero sí cargar los datos de entrenamiento. \n",
        "\n",
        "En este caso, usará un conjunto de datos que contiene detalles de pacientes con diabetes. \n",
        "\n",
        "Para pasar un conjunto de datos como entrada a un trabajo de aprendizaje automático automatizado, los datos deben estar en formato tabular e incluir una columna de destino. Para que los datos se interpreten como un conjunto de datos tabular, el conjunto de datos de entrada debe ser **mlTable**.\n",
        "\n",
        "Ya se ha creado un recurso de datos de MLTable durante la configuración. Para explorar el recurso de datos, vaya a la página **Datos**. Aquí recuperará el recurso de datos especificando su nombre `diabetes-training-table` y versión `1`. "
      ]
    },
    {
      "cell_type": "code",
      "execution_count": null,
      "metadata": {
        "gather": {
          "logged": 1664965651163
        },
        "jupyter": {
          "outputs_hidden": false,
          "source_hidden": false
        },
        "nteract": {
          "transient": {
            "deleting": false
          }
        },
        "vscode": {
          "languageId": "python"
        }
      },
      "outputs": [],
      "source": [
        "## Configuración del trabajo automatizado de aprendizaje automático\n",
        "\n",
        "Ya está listo para configurar el experimento de aprendizaje automático automatizado.\n",
        "\n",
        "Al ejecutar el código siguiente, creará un trabajo de aprendizaje automático automatizado que:\n",
        "\n",
        "- Usa el clúster de proceso denominado `aml-cluster`\n",
        "- Establece `Diabetic` como columna de destino\n",
        "- Establece `accuracy` como métrica principal\n",
        "- Agota el tiempo de espera después de `60` minutos del tiempo total de entrenamiento \n",
        "- Entrena un máximo de `5` modelos\n",
        "- No se entrenará ningún modelo con el algoritmo `LogisticRegression`"
      ]
    },
    {
      "cell_type": "code",
      "execution_count": null,
      "metadata": {
        "vscode": {
          "languageId": "python"
        }
      },
      "outputs": [],
      "source": [
        "## Cancelar un trabajo de aprendizaje automático automatizado\n",
        "\n",
        "Ya tiene todo listo. Ahora se ejecutará el experimento de aprendizaje automático automatizado.\n",
        "\n",
        "> **Nota**: Esto puede tardar algún tiempo."
      ]
    },
    {
      "cell_type": "markdown",
      "metadata": {},
      "source": [
        "Mientras se ejecuta el trabajo, puede supervisarlo en Studio."
      ]
    },
    {
      "cell_type": "code",
      "execution_count": null,
      "metadata": {
        "gather": {
          "logged": 1664965655212
        },
        "jupyter": {
          "outputs_hidden": false,
          "source_hidden": false
        },
        "nteract": {
          "transient": {
            "deleting": false
          }
        },
        "vscode": {
          "languageId": "python"
        }
      },
      "outputs": [],
      "source": [
        "from azure.ai.ml.constants import AssetTypes\n",
        "from azure.ai.ml import Input\n",
        "\n",
        "# creates a dataset based on the files in the local data folder\n",
        "my_training_data_input = Input(type=AssetTypes.MLTABLE, path=\"azureml:diabetes-training:1\")"
      ]
    },
    {
      "cell_type": "markdown",
      "metadata": {},
      "source": [
        "## Configure automated machine learning job\n",
        "\n",
        "Now, you're ready to configure the automated machine learning experiment.\n",
        "\n",
        "When you run the code below, it will create an automated machine learning job that:\n",
        "\n",
        "- Uses the compute cluster named `aml-cluster`\n",
        "- Sets `Diabetic` as the target column\n",
        "- Sets `accuracy` as the primary metric\n",
        "- Times out after `60` minutes of total training time \n",
        "- Trains a maximum of `5` models\n",
        "- No model will be trained with the `LogisticRegression` algorithm"
      ]
    },
    {
      "cell_type": "code",
      "execution_count": null,
      "metadata": {
        "gather": {
          "logged": 1664965734226
        },
        "jupyter": {
          "outputs_hidden": false,
          "source_hidden": false
        },
        "nteract": {
          "transient": {
            "deleting": false
          }
        },
        "vscode": {
          "languageId": "python"
        }
      },
      "outputs": [],
      "source": [
        "from azure.ai.ml import automl\n",
        "\n",
        "# configure the classification job\n",
        "classification_job = automl.classification(\n",
        "    compute=\"aml-cluster\",\n",
        "    experiment_name=\"auto-ml-class-dev\",\n",
        "    training_data=my_training_data_input,\n",
        "    target_column_name=\"Diabetic\",\n",
        "    primary_metric=\"accuracy\",\n",
        "    n_cross_validations=5,\n",
        "    enable_model_explainability=True\n",
        ")\n",
        "\n",
        "# set the limits (optional)\n",
        "classification_job.set_limits(\n",
        "    timeout_minutes=60, \n",
        "    trial_timeout_minutes=20, \n",
        "    max_trials=5,\n",
        "    enable_early_termination=True,\n",
        ")\n",
        "\n",
        "# set the training properties (optional)\n",
        "classification_job.set_training(\n",
        "    blocked_training_algorithms=[\"LogisticRegression\"], \n",
        "    enable_onnx_compatible_models=True\n",
        ")"
      ]
    },
    {
      "cell_type": "markdown",
      "metadata": {},
      "source": [
        "## Run an automated machine learning job\n",
        "\n",
        "OK, you're ready to go. Let's run the automated machine learning experiment.\n",
        "\n",
        "> **Note**: This may take some time!"
      ]
    },
    {
      "cell_type": "code",
      "execution_count": null,
      "metadata": {
        "gather": {
          "logged": 1664965739262
        },
        "jupyter": {
          "outputs_hidden": false,
          "source_hidden": false
        },
        "nteract": {
          "transient": {
            "deleting": false
          }
        },
        "vscode": {
          "languageId": "python"
        }
      },
      "outputs": [],
      "source": [
        "# Submit the AutoML job\n",
        "returned_job = ml_client.jobs.create_or_update(\n",
        "    classification_job\n",
        ")  \n",
        "\n",
        "# submit the job to the backend\n",
        "aml_url = returned_job.studio_url\n",
        "print(\"Monitor your job at\", aml_url)"
      ]
    },
    {
      "cell_type": "markdown",
      "metadata": {},
      "source": [
        "While the job is running, you can monitor it in the Studio."
      ]
    }
  ],
  "metadata": {
    "kernel_info": {
      "name": "python38-azureml"
    },
    "kernelspec": {
      "display_name": "Python 3.8 - AzureML",
      "language": "python",
      "name": "python38-azureml"
    },
    "microsoft": {
      "host": {
        "AzureML": {
          "notebookHasBeenCompleted": true
        }
      }
    },
    "nteract": {
      "version": "nteract-front-end@1.0.0"
    },
    "vscode": {
      "interpreter": {
        "hash": "f2b2cd046deda8eabef1e765a11d0ec9aa9bd1d31d56ce79c815a38c323e14ec"
      }
    }
  },
  "nbformat": 4,
  "nbformat_minor": 2
}